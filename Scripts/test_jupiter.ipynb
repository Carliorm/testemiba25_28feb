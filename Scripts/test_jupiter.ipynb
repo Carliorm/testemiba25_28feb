{
 "cells": [
  {
   "cell_type": "code",
   "execution_count": 3,
   "metadata": {},
   "outputs": [
    {
     "name": "stdout",
     "output_type": "stream",
     "text": [
      "hello\n"
     ]
    }
   ],
   "source": [
    "print ('hello')\n",
    "\n",
    "import pandas as pd\n",
    "from matplotlib import pyplot as plt\n",
    "\n"
   ]
  },
  {
   "cell_type": "code",
   "execution_count": 4,
   "metadata": {},
   "outputs": [],
   "source": [
    "df = pd.read_csv(\"police_deaths_USA_v6.csv\")"
   ]
  },
  {
   "cell_type": "code",
   "execution_count": 5,
   "metadata": {},
   "outputs": [
    {
     "data": {
      "application/vnd.microsoft.datawrangler.viewer.v0+json": {
       "columns": [
        {
         "name": "index",
         "rawType": "int64",
         "type": "integer"
        },
        {
         "name": "Rank",
         "rawType": "object",
         "type": "string"
        },
        {
         "name": "Name",
         "rawType": "object",
         "type": "string"
        },
        {
         "name": "Age",
         "rawType": "float64",
         "type": "float"
        },
        {
         "name": "End_Of_Watch",
         "rawType": "object",
         "type": "string"
        },
        {
         "name": "Day_Of_Week",
         "rawType": "object",
         "type": "string"
        },
        {
         "name": "Cause",
         "rawType": "object",
         "type": "string"
        },
        {
         "name": "Department",
         "rawType": "object",
         "type": "string"
        },
        {
         "name": "State",
         "rawType": "object",
         "type": "string"
        },
        {
         "name": "Tour",
         "rawType": "object",
         "type": "unknown"
        },
        {
         "name": "Badge",
         "rawType": "object",
         "type": "unknown"
        },
        {
         "name": "Weapon",
         "rawType": "object",
         "type": "string"
        },
        {
         "name": "Offender",
         "rawType": "object",
         "type": "string"
        },
        {
         "name": "Summary",
         "rawType": "object",
         "type": "string"
        }
       ],
       "conversionMethod": "pd.DataFrame",
       "ref": "077d1621-e032-4d3a-b067-f5acf9557287",
       "rows": [
        [
         "0",
         "Constable",
         "Darius Quimby",
         null,
         "1791-01-03",
         "Monday",
         "Stabbed",
         "Albany County Constable's Office, New York",
         "New York",
         null,
         null,
         "Edged weapon; Knife",
         "Executed in 1791",
         "Constable Darius Quimby was stabbed to death while attempting to arrest a man on a trespassing warrant.The suspect was found guilty of murdering Constable Quimby in the July 1791 session of the New York State Supreme Court and was hanged on August 26, 1791.Constable Quimby is the first known law enforcement officer to be killed in the line of duty in the United States."
        ],
        [
         "1",
         "Sheriff",
         "Cornelius Hogeboom",
         "53.0",
         "1791-10-22",
         "Saturday",
         "Gunfire",
         "Columbia County Sheriff's Office, New York",
         "New York",
         "2 years",
         null,
         "Gun; Unknown type",
         "Acquitted",
         "Sheriff Cornelius Hogeboom was shot and killed while serving a writ of ejectment. He was ambushed and shot by a group of men who were disguised as Indians.Then suspects were arrested and charged with Sheriff Hogeboom's murder but all were acquitted.Sheriff Hogeboom had served with the Columbia County Sheriff's Office for two years and was a veteran of the American Revolutionary War. He was survived by his wife and is buried in Ghent Union Cemetery, Ghent, Columbia County, New York."
        ],
        [
         "2",
         "Deputy Sheriff",
         "Isaac Smith",
         null,
         "1792-05-17",
         "Thursday",
         "Gunfire",
         "Westchester County Sheriff's Department, New York",
         "New York",
         null,
         null,
         "Handgun",
         "Executed in 1793",
         "Deputy Sheriff Isaac Smith was shot and killed while attempting to serve a writ on a subject outside of a tavern at Delancey's Mill in the Bronx.As Deputy Smith attempted to arrest him he was shot. The subject, who was a well-known British loyalist, fled to Canada but was eventually caught and hung on October 2nd, 1793.Deputy Smith was survived by his wife and two children."
        ],
        [
         "3",
         "Marshal",
         "Robert Forsyth",
         "40.0",
         "1794-01-11",
         "Saturday",
         "Gunfire",
         "United States Department of Justice - United States Marshals Service, U.S. Government",
         "United States",
         "4 years, 4 months",
         "4",
         "Handgun; Pistol",
         "Escaped",
         "Marshal Robert Forsyth, believed to be one of the first U.S. Marshals killed in the line of duty, was shot and killed while he attempted to serve civil papers on a man. The suspect and his brother had holed up in an upstairs bedroom. As Marshal Forsyth attempted to gain access to the room, the man told him not to come any closer. At the same time, the suspect fired a shot through an opening in the door, fatally wounding Marshal Forsyth.After being arrested, the man twice escaped from jail, fled the state, and was never recaptured. One of the brothers died in Kentucky in 1817, and the second died in Georgia in 1826.Marshal Forsyth, who served in the American Revolutionary War, had been with the agency for more than four years after being named one of the first 13 marshals by George Washington.  He was survived by his wife and two sons, the younger of whom became Secretary of State for Foreign Affairs in the governments of two presidents and whose work included the purchase of Florida from the Spanish.Marshal Forsyth is buried in Saint Paul's Episcopal Church Cemetery, Augusta, Richmond County, Georgia."
        ],
        [
         "4",
         "Deputy Sheriff",
         "Robert Berwick",
         null,
         "1797-06-29",
         "Thursday",
         "Gunfire",
         "New York County Sheriff's Office, New York",
         "New York",
         null,
         null,
         "Handgun",
         "Executed in 1797",
         "Deputy Sheriff Robert Berwick was shot and killed while attempting to serve a writ on a subject on Broadway near St. Paul's Church.As Deputy Berwick walked with the prisoner to jail the man suddenly pulled out a pistol and shot him in the chest. The man ran to towards Barclay Street where he handed two pistols to another citizen who ran from his house upon hearing the gunshot.The man was convicted of Deputy Berwick's murder and executed on August 17th, 1797.Deputy Berwick was survived by his wife."
        ]
       ],
       "shape": {
        "columns": 13,
        "rows": 5
       }
      },
      "text/html": [
       "<div>\n",
       "<style scoped>\n",
       "    .dataframe tbody tr th:only-of-type {\n",
       "        vertical-align: middle;\n",
       "    }\n",
       "\n",
       "    .dataframe tbody tr th {\n",
       "        vertical-align: top;\n",
       "    }\n",
       "\n",
       "    .dataframe thead th {\n",
       "        text-align: right;\n",
       "    }\n",
       "</style>\n",
       "<table border=\"1\" class=\"dataframe\">\n",
       "  <thead>\n",
       "    <tr style=\"text-align: right;\">\n",
       "      <th></th>\n",
       "      <th>Rank</th>\n",
       "      <th>Name</th>\n",
       "      <th>Age</th>\n",
       "      <th>End_Of_Watch</th>\n",
       "      <th>Day_Of_Week</th>\n",
       "      <th>Cause</th>\n",
       "      <th>Department</th>\n",
       "      <th>State</th>\n",
       "      <th>Tour</th>\n",
       "      <th>Badge</th>\n",
       "      <th>Weapon</th>\n",
       "      <th>Offender</th>\n",
       "      <th>Summary</th>\n",
       "    </tr>\n",
       "  </thead>\n",
       "  <tbody>\n",
       "    <tr>\n",
       "      <th>0</th>\n",
       "      <td>Constable</td>\n",
       "      <td>Darius Quimby</td>\n",
       "      <td>NaN</td>\n",
       "      <td>1791-01-03</td>\n",
       "      <td>Monday</td>\n",
       "      <td>Stabbed</td>\n",
       "      <td>Albany County Constable's Office, New York</td>\n",
       "      <td>New York</td>\n",
       "      <td>NaN</td>\n",
       "      <td>NaN</td>\n",
       "      <td>Edged weapon; Knife</td>\n",
       "      <td>Executed in 1791</td>\n",
       "      <td>Constable Darius Quimby was stabbed to death w...</td>\n",
       "    </tr>\n",
       "    <tr>\n",
       "      <th>1</th>\n",
       "      <td>Sheriff</td>\n",
       "      <td>Cornelius Hogeboom</td>\n",
       "      <td>53.0</td>\n",
       "      <td>1791-10-22</td>\n",
       "      <td>Saturday</td>\n",
       "      <td>Gunfire</td>\n",
       "      <td>Columbia County Sheriff's Office, New York</td>\n",
       "      <td>New York</td>\n",
       "      <td>2 years</td>\n",
       "      <td>NaN</td>\n",
       "      <td>Gun; Unknown type</td>\n",
       "      <td>Acquitted</td>\n",
       "      <td>Sheriff Cornelius Hogeboom was shot and killed...</td>\n",
       "    </tr>\n",
       "    <tr>\n",
       "      <th>2</th>\n",
       "      <td>Deputy Sheriff</td>\n",
       "      <td>Isaac Smith</td>\n",
       "      <td>NaN</td>\n",
       "      <td>1792-05-17</td>\n",
       "      <td>Thursday</td>\n",
       "      <td>Gunfire</td>\n",
       "      <td>Westchester County Sheriff's Department, New York</td>\n",
       "      <td>New York</td>\n",
       "      <td>NaN</td>\n",
       "      <td>NaN</td>\n",
       "      <td>Handgun</td>\n",
       "      <td>Executed in 1793</td>\n",
       "      <td>Deputy Sheriff Isaac Smith was shot and killed...</td>\n",
       "    </tr>\n",
       "    <tr>\n",
       "      <th>3</th>\n",
       "      <td>Marshal</td>\n",
       "      <td>Robert Forsyth</td>\n",
       "      <td>40.0</td>\n",
       "      <td>1794-01-11</td>\n",
       "      <td>Saturday</td>\n",
       "      <td>Gunfire</td>\n",
       "      <td>United States Department of Justice - United S...</td>\n",
       "      <td>United States</td>\n",
       "      <td>4 years, 4 months</td>\n",
       "      <td>4</td>\n",
       "      <td>Handgun; Pistol</td>\n",
       "      <td>Escaped</td>\n",
       "      <td>Marshal Robert Forsyth, believed to be one of ...</td>\n",
       "    </tr>\n",
       "    <tr>\n",
       "      <th>4</th>\n",
       "      <td>Deputy Sheriff</td>\n",
       "      <td>Robert Berwick</td>\n",
       "      <td>NaN</td>\n",
       "      <td>1797-06-29</td>\n",
       "      <td>Thursday</td>\n",
       "      <td>Gunfire</td>\n",
       "      <td>New York County Sheriff's Office, New York</td>\n",
       "      <td>New York</td>\n",
       "      <td>NaN</td>\n",
       "      <td>NaN</td>\n",
       "      <td>Handgun</td>\n",
       "      <td>Executed in 1797</td>\n",
       "      <td>Deputy Sheriff Robert Berwick was shot and kil...</td>\n",
       "    </tr>\n",
       "  </tbody>\n",
       "</table>\n",
       "</div>"
      ],
      "text/plain": [
       "             Rank                Name   Age End_Of_Watch Day_Of_Week    Cause  \\\n",
       "0       Constable       Darius Quimby   NaN   1791-01-03      Monday  Stabbed   \n",
       "1         Sheriff  Cornelius Hogeboom  53.0   1791-10-22    Saturday  Gunfire   \n",
       "2  Deputy Sheriff         Isaac Smith   NaN   1792-05-17    Thursday  Gunfire   \n",
       "3         Marshal      Robert Forsyth  40.0   1794-01-11    Saturday  Gunfire   \n",
       "4  Deputy Sheriff      Robert Berwick   NaN   1797-06-29    Thursday  Gunfire   \n",
       "\n",
       "                                          Department          State  \\\n",
       "0         Albany County Constable's Office, New York       New York   \n",
       "1         Columbia County Sheriff's Office, New York       New York   \n",
       "2  Westchester County Sheriff's Department, New York       New York   \n",
       "3  United States Department of Justice - United S...  United States   \n",
       "4         New York County Sheriff's Office, New York       New York   \n",
       "\n",
       "                Tour Badge               Weapon          Offender  \\\n",
       "0                NaN   NaN  Edged weapon; Knife  Executed in 1791   \n",
       "1            2 years   NaN    Gun; Unknown type         Acquitted   \n",
       "2                NaN   NaN              Handgun  Executed in 1793   \n",
       "3  4 years, 4 months     4      Handgun; Pistol           Escaped   \n",
       "4                NaN   NaN              Handgun  Executed in 1797   \n",
       "\n",
       "                                             Summary  \n",
       "0  Constable Darius Quimby was stabbed to death w...  \n",
       "1  Sheriff Cornelius Hogeboom was shot and killed...  \n",
       "2  Deputy Sheriff Isaac Smith was shot and killed...  \n",
       "3  Marshal Robert Forsyth, believed to be one of ...  \n",
       "4  Deputy Sheriff Robert Berwick was shot and kil...  "
      ]
     },
     "execution_count": 5,
     "metadata": {},
     "output_type": "execute_result"
    }
   ],
   "source": [
    "df.head()"
   ]
  },
  {
   "cell_type": "code",
   "execution_count": 6,
   "metadata": {},
   "outputs": [
    {
     "name": "stdout",
     "output_type": "stream",
     "text": [
      "<class 'pandas.core.frame.DataFrame'>\n",
      "RangeIndex: 25623 entries, 0 to 25622\n",
      "Data columns (total 13 columns):\n",
      " #   Column        Non-Null Count  Dtype  \n",
      "---  ------        --------------  -----  \n",
      " 0   Rank          25623 non-null  object \n",
      " 1   Name          25623 non-null  object \n",
      " 2   Age           22946 non-null  float64\n",
      " 3   End_Of_Watch  25623 non-null  object \n",
      " 4   Day_Of_Week   25623 non-null  object \n",
      " 5   Cause         25622 non-null  object \n",
      " 6   Department    25623 non-null  object \n",
      " 7   State         25623 non-null  object \n",
      " 8   Tour          17417 non-null  object \n",
      " 9   Badge         7477 non-null   object \n",
      " 10  Weapon        16263 non-null  object \n",
      " 11  Offender      13803 non-null  object \n",
      " 12  Summary       25623 non-null  object \n",
      "dtypes: float64(1), object(12)\n",
      "memory usage: 2.5+ MB\n"
     ]
    }
   ],
   "source": [
    "df.info()"
   ]
  },
  {
   "cell_type": "code",
   "execution_count": 7,
   "metadata": {},
   "outputs": [
    {
     "data": {
      "text/plain": [
       "<Axes: >"
      ]
     },
     "execution_count": 7,
     "metadata": {},
     "output_type": "execute_result"
    },
    {
     "data": {
      "image/png": "[encoded data removed]",
      "text/plain": [
       "<Figure size 640x480 with 1 Axes>"
      ]
     },
     "metadata": {},
     "output_type": "display_data"
    }
   ],
   "source": [
    "Age = df['Age']\n",
    "Age.hist(bins=10, range=(0, 100))"
   ]
  },
  {
   "cell_type": "code",
   "execution_count": 8,
   "metadata": {},
   "outputs": [
    {
     "data": {
      "text/plain": [
       "State\n",
       "Alabama                     41.440546\n",
       "Alaska                      37.041667\n",
       "American Samoa              39.333333\n",
       "Arizona                     40.411765\n",
       "Arkansas                    42.828859\n",
       "California                  37.947134\n",
       "Colorado                    39.785156\n",
       "Connecticut                 41.822222\n",
       "Delaware                    37.173913\n",
       "District of Columbia        36.032520\n",
       "Florida                     41.287574\n",
       "Georgia                     40.239837\n",
       "Guam                        35.583333\n",
       "Hawaii                      37.320755\n",
       "Idaho                       41.610169\n",
       "Illinois                    39.657718\n",
       "Indiana                     39.860987\n",
       "Iowa                        42.340206\n",
       "Kansas                      42.384615\n",
       "Kentucky                    42.139759\n",
       "Louisiana                   41.011211\n",
       "Maine                       41.695122\n",
       "Maryland                    37.501695\n",
       "Massachusetts               42.623711\n",
       "Michigan                    37.395695\n",
       "Minnesota                   43.168000\n",
       "Mississippi                 42.771626\n",
       "Missouri                    41.316535\n",
       "Montana                     42.572727\n",
       "Nebraska                    43.162162\n",
       "Nevada                      41.267857\n",
       "New Hampshire               42.812500\n",
       "New Jersey                  39.224101\n",
       "New Mexico                  38.288591\n",
       "New York                    41.200122\n",
       "North Carolina              39.788494\n",
       "North Dakota                46.711538\n",
       "Northern Mariana Islands    33.666667\n",
       "Ohio                        39.487981\n",
       "Oklahoma                    42.377778\n",
       "Oregon                      41.720779\n",
       "Panama Canal Zone           41.000000\n",
       "Pennsylvania                40.755430\n",
       "Puerto Rico                 35.464567\n",
       "Rhode Island                40.875000\n",
       "South Carolina              39.206128\n",
       "South Dakota                44.256410\n",
       "Tennessee                   42.267628\n",
       "Texas                       40.294147\n",
       "United States               39.044418\n",
       "Utah                        40.201681\n",
       "Vermont                     46.500000\n",
       "Virgin Islands              34.090909\n",
       "Virginia                    39.919149\n",
       "Washington                  41.612648\n",
       "West Virginia               39.978723\n",
       "Wisconsin                   40.258065\n",
       "Wyoming                     42.543478\n",
       "Name: Age, dtype: float64"
      ]
     },
     "execution_count": 8,
     "metadata": {},
     "output_type": "execute_result"
    }
   ],
   "source": [
    "df.groupby('State')['Age'].mean()"
   ]
  },
  {
   "cell_type": "code",
   "execution_count": 9,
   "metadata": {},
   "outputs": [
    {
     "data": {
      "text/plain": [
       "Rank              618\n",
       "Name            25493\n",
       "Age                72\n",
       "End_Of_Watch    18845\n",
       "Day_Of_Week         7\n",
       "Cause              36\n",
       "Department       7229\n",
       "State              58\n",
       "Tour              369\n",
       "Badge            4076\n",
       "Weapon            136\n",
       "Offender         1763\n",
       "Summary         25590\n",
       "dtype: int64"
      ]
     },
     "execution_count": 9,
     "metadata": {},
     "output_type": "execute_result"
    }
   ],
   "source": [
    "df.nunique()\n",
    "    "
   ]
  },
  {
   "cell_type": "code",
   "execution_count": 11,
   "metadata": {},
   "outputs": [
    {
     "data": {
      "application/vnd.microsoft.datawrangler.viewer.v0+json": {
       "columns": [
        {
         "name": "index",
         "rawType": "object",
         "type": "string"
        },
        {
         "name": "Age",
         "rawType": "float64",
         "type": "float"
        }
       ],
       "conversionMethod": "pd.DataFrame",
       "ref": "5488d145-f2d4-4519-a13b-3dd47da8860f",
       "rows": [
        [
         "count",
         "22946.0"
        ],
        [
         "mean",
         "40.28941863505622"
        ],
        [
         "std",
         "15.799728532392674"
        ],
        [
         "min",
         "17.0"
        ],
        [
         "25%",
         "31.0"
        ],
        [
         "50%",
         "39.0"
        ],
        [
         "75%",
         "48.0"
        ],
        [
         "max",
         "1661.0"
        ]
       ],
       "shape": {
        "columns": 1,
        "rows": 8
       }
      },
      "text/html": [
       "<div>\n",
       "<style scoped>\n",
       "    .dataframe tbody tr th:only-of-type {\n",
       "        vertical-align: middle;\n",
       "    }\n",
       "\n",
       "    .dataframe tbody tr th {\n",
       "        vertical-align: top;\n",
       "    }\n",
       "\n",
       "    .dataframe thead th {\n",
       "        text-align: right;\n",
       "    }\n",
       "</style>\n",
       "<table border=\"1\" class=\"dataframe\">\n",
       "  <thead>\n",
       "    <tr style=\"text-align: right;\">\n",
       "      <th></th>\n",
       "      <th>Age</th>\n",
       "    </tr>\n",
       "  </thead>\n",
       "  <tbody>\n",
       "    <tr>\n",
       "      <th>count</th>\n",
       "      <td>22946.000000</td>\n",
       "    </tr>\n",
       "    <tr>\n",
       "      <th>mean</th>\n",
       "      <td>40.289419</td>\n",
       "    </tr>\n",
       "    <tr>\n",
       "      <th>std</th>\n",
       "      <td>15.799729</td>\n",
       "    </tr>\n",
       "    <tr>\n",
       "      <th>min</th>\n",
       "      <td>17.000000</td>\n",
       "    </tr>\n",
       "    <tr>\n",
       "      <th>25%</th>\n",
       "      <td>31.000000</td>\n",
       "    </tr>\n",
       "    <tr>\n",
       "      <th>50%</th>\n",
       "      <td>39.000000</td>\n",
       "    </tr>\n",
       "    <tr>\n",
       "      <th>75%</th>\n",
       "      <td>48.000000</td>\n",
       "    </tr>\n",
       "    <tr>\n",
       "      <th>max</th>\n",
       "      <td>1661.000000</td>\n",
       "    </tr>\n",
       "  </tbody>\n",
       "</table>\n",
       "</div>"
      ],
      "text/plain": [
       "                Age\n",
       "count  22946.000000\n",
       "mean      40.289419\n",
       "std       15.799729\n",
       "min       17.000000\n",
       "25%       31.000000\n",
       "50%       39.000000\n",
       "75%       48.000000\n",
       "max     1661.000000"
      ]
     },
     "execution_count": 11,
     "metadata": {},
     "output_type": "execute_result"
    }
   ],
   "source": [
    "df.describe()"
   ]
  }
 ],
 "metadata": {
  "kernelspec": {
   "display_name": "TestEMIBA25",
   "language": "python",
   "name": "python3"
  },
  "language_info": {
   "codemirror_mode": {
    "name": "ipython",
    "version": 3
   },
   "file_extension": ".py",
   "mimetype": "text/x-python",
   "name": "python",
   "nbconvert_exporter": "python",
   "pygments_lexer": "ipython3",
   "version": "3.11.11"
  }
 },
 "nbformat": 4,
 "nbformat_minor": 2
}
